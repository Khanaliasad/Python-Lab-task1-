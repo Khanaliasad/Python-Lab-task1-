{
 "cells": [
  {
   "cell_type": "markdown",
   "metadata": {},
   "source": [
    "# Asad Ali Khan  EP-1850016"
   ]
  },
  {
   "cell_type": "markdown",
   "metadata": {},
   "source": [
    "### DATA MINING LAB Tasks  submited to (Miss Bakhtawar)"
   ]
  },
  {
   "cell_type": "markdown",
   "metadata": {},
   "source": [
    "### Q1. Index of something which exist multiple times in an array"
   ]
  },
  {
   "cell_type": "code",
   "execution_count": 1,
   "metadata": {},
   "outputs": [],
   "source": [
    "arr=[0,1,2,3,4,5,6,7,8,9,0,1,2,3,4,5,6,7,8,9,0,1,2,3,4,5,6,7,8,9,0,1,2,3,4,5,6,7,8,9,]\n"
   ]
  },
  {
   "cell_type": "code",
   "execution_count": 2,
   "metadata": {},
   "outputs": [],
   "source": [
    "asad = lambda x,xs: [i for (y,i)in zip(xs,range(len(xs))) if x==y]"
   ]
  },
  {
   "cell_type": "code",
   "execution_count": 3,
   "metadata": {},
   "outputs": [
    {
     "name": "stdout",
     "output_type": "stream",
     "text": [
      "enter a number b/w 0 to 9  :7\n",
      "7\n"
     ]
    }
   ],
   "source": [
    "a=int(input(\"enter a number b/w 0 to 9  :\"))\n",
    "print (a)"
   ]
  },
  {
   "cell_type": "code",
   "execution_count": 4,
   "metadata": {},
   "outputs": [
    {
     "data": {
      "text/plain": [
       "[7, 17, 27, 37]"
      ]
     },
     "execution_count": 4,
     "metadata": {},
     "output_type": "execute_result"
    }
   ],
   "source": [
    "asad(a,arr)"
   ]
  },
  {
   "cell_type": "markdown",
   "metadata": {},
   "source": [
    "### Q2. print odd number from 1 till User Input using while loop"
   ]
  },
  {
   "cell_type": "code",
   "execution_count": 5,
   "metadata": {},
   "outputs": [],
   "source": [
    "Asad_Ali_Khan = \"EP 1850016\""
   ]
  },
  {
   "cell_type": "code",
   "execution_count": 6,
   "metadata": {},
   "outputs": [
    {
     "name": "stdout",
     "output_type": "stream",
     "text": [
      "enter a number you love  :50\n"
     ]
    }
   ],
   "source": [
    "starter=1\n",
    "stoper = int(input(\"enter a number you love  :\"))"
   ]
  },
  {
   "cell_type": "code",
   "execution_count": 7,
   "metadata": {},
   "outputs": [
    {
     "name": "stdout",
     "output_type": "stream",
     "text": [
      "1 is an odd number\n",
      "3 is an odd number\n",
      "5 is an odd number\n",
      "7 is an odd number\n",
      "9 is an odd number\n",
      "11 is an odd number\n",
      "13 is an odd number\n",
      "15 is an odd number\n",
      "17 is an odd number\n",
      "19 is an odd number\n",
      "21 is an odd number\n",
      "23 is an odd number\n",
      "25 is an odd number\n",
      "27 is an odd number\n",
      "29 is an odd number\n",
      "31 is an odd number\n",
      "33 is an odd number\n",
      "35 is an odd number\n",
      "37 is an odd number\n",
      "39 is an odd number\n",
      "41 is an odd number\n",
      "43 is an odd number\n",
      "45 is an odd number\n",
      "47 is an odd number\n",
      "49 is an odd number\n"
     ]
    }
   ],
   "source": [
    "while starter<= stoper:\n",
    "    if starter % 2 !=0:\n",
    "        print(starter,\"is an odd number\")\n",
    "    starter +=1"
   ]
  },
  {
   "cell_type": "markdown",
   "metadata": {},
   "source": [
    "### Q3. print even number from 1 till User Input Using for loop"
   ]
  },
  {
   "cell_type": "code",
   "execution_count": 8,
   "metadata": {},
   "outputs": [],
   "source": [
    "Asad_Ali_Khan = \"EP 1850016\""
   ]
  },
  {
   "cell_type": "code",
   "execution_count": 9,
   "metadata": {},
   "outputs": [
    {
     "name": "stdout",
     "output_type": "stream",
     "text": [
      "enter the upper limit  :2\n",
      "enter the lower limit  :20\n"
     ]
    }
   ],
   "source": [
    "a= input(\"enter the upper limit  :\")\n",
    "b= input(\"enter the lower limit  :\")\n",
    "\n",
    "try:\n",
    "    starter=int(a)\n",
    "    stoper=int(b)\n",
    "except:\n",
    "    print(\"Insan k bacha bano aur integer value dalo\")"
   ]
  },
  {
   "cell_type": "code",
   "execution_count": 10,
   "metadata": {},
   "outputs": [
    {
     "name": "stdout",
     "output_type": "stream",
     "text": [
      "2 is an even number\n",
      "4 is an even number\n",
      "6 is an even number\n",
      "8 is an even number\n",
      "10 is an even number\n",
      "12 is an even number\n",
      "14 is an even number\n",
      "16 is an even number\n",
      "18 is an even number\n"
     ]
    }
   ],
   "source": [
    "for asad in range (starter,stoper,2):\n",
    "        print(asad,\"is an even number\")\n"
   ]
  },
  {
   "cell_type": "markdown",
   "metadata": {},
   "source": [
    "### LAB TASK(B):print prime and non prime numbers Using for loop"
   ]
  },
  {
   "cell_type": "code",
   "execution_count": 11,
   "metadata": {},
   "outputs": [
    {
     "name": "stdout",
     "output_type": "stream",
     "text": [
      "Asad Ali Khan EP-1850016\n"
     ]
    }
   ],
   "source": [
    "print(\"Asad Ali Khan EP-1850016\")"
   ]
  },
  {
   "cell_type": "code",
   "execution_count": 12,
   "metadata": {},
   "outputs": [
    {
     "name": "stdout",
     "output_type": "stream",
     "text": [
      "enter the upper limit  :1\n",
      "enter the lower limit  :9\n"
     ]
    }
   ],
   "source": [
    "a= input(\"enter the upper limit  :\")\n",
    "b= input(\"enter the lower limit  :\")\n",
    "\n",
    "try:\n",
    "    starter=int(a)\n",
    "    stoper=int(b)\n",
    "except:\n",
    "    print(\"Insan k bacha bano aur integer value dalo\")"
   ]
  },
  {
   "cell_type": "code",
   "execution_count": 13,
   "metadata": {},
   "outputs": [],
   "source": [
    "def asad(starter):\n",
    "    if starter>1:\n",
    "        for i in range(2,starter):\n",
    "            if(starter%i)==0:\n",
    "                print(starter,\"is not a prime number\")\n",
    "                break\n",
    "            else:\n",
    "                print(starter,\"is a prime number\")\n",
    "                break"
   ]
  },
  {
   "cell_type": "code",
   "execution_count": 14,
   "metadata": {},
   "outputs": [
    {
     "name": "stdout",
     "output_type": "stream",
     "text": [
      "3 is a prime number\n",
      "4 is not a prime number\n",
      "5 is a prime number\n",
      "6 is not a prime number\n",
      "7 is a prime number\n",
      "8 is not a prime number\n"
     ]
    }
   ],
   "source": [
    "for Asad in range(starter,stoper):\n",
    "    asad(Asad)\n"
   ]
  },
  {
   "cell_type": "markdown",
   "metadata": {},
   "source": [
    "### LAB TASK(B):print prime and non prime numbers Using while loop "
   ]
  },
  {
   "cell_type": "code",
   "execution_count": 15,
   "metadata": {},
   "outputs": [
    {
     "name": "stdout",
     "output_type": "stream",
     "text": [
      "enter the upper limit  :3\n",
      "enter the lower limit  :9\n"
     ]
    }
   ],
   "source": [
    "a= input(\"enter the upper limit  :\")\n",
    "b= input(\"enter the lower limit  :\")\n",
    "\n",
    "try:\n",
    "    starter=int(a)\n",
    "    stoper=int(b)\n",
    "except:\n",
    "    print(\"Insan k bacha bano aur integer value dalo\")"
   ]
  },
  {
   "cell_type": "code",
   "execution_count": 16,
   "metadata": {},
   "outputs": [
    {
     "name": "stdout",
     "output_type": "stream",
     "text": [
      "Asad Ali Khan EP-1850016\n"
     ]
    }
   ],
   "source": [
    "print(\"Asad Ali Khan EP-1850016\")\n"
   ]
  },
  {
   "cell_type": "code",
   "execution_count": 17,
   "metadata": {},
   "outputs": [
    {
     "name": "stdout",
     "output_type": "stream",
     "text": [
      "3 is a prime number\n",
      "4 is not a prime number\n",
      "5 is a prime number\n",
      "6 is not a prime number\n",
      "7 is a prime number\n",
      "8 is not a prime number\n",
      "9 is a prime number\n"
     ]
    }
   ],
   "source": [
    "while starter<= stoper:\n",
    "    asad(starter)\n",
    "    starter+=1"
   ]
  },
  {
   "cell_type": "code",
   "execution_count": null,
   "metadata": {},
   "outputs": [],
   "source": []
  }
 ],
 "metadata": {
  "kernelspec": {
   "display_name": "Python 3",
   "language": "python",
   "name": "python3"
  },
  "language_info": {
   "codemirror_mode": {
    "name": "ipython",
    "version": 3
   },
   "file_extension": ".py",
   "mimetype": "text/x-python",
   "name": "python",
   "nbconvert_exporter": "python",
   "pygments_lexer": "ipython3",
   "version": "3.7.6"
  }
 },
 "nbformat": 4,
 "nbformat_minor": 4
}
