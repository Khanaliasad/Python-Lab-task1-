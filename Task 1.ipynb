{
 "cells": [
  {
   "cell_type": "markdown",
   "metadata": {},
   "source": [
    "# Asad Ali Khan EP- 1850016"
   ]
  },
  {
   "cell_type": "code",
   "execution_count": 31,
   "metadata": {},
   "outputs": [],
   "source": [
    "import re"
   ]
  },
  {
   "cell_type": "code",
   "execution_count": 32,
   "metadata": {},
   "outputs": [
    {
     "name": "stdout",
     "output_type": "stream",
     "text": [
      "as3#\n"
     ]
    }
   ],
   "source": [
    "x = input(\"\")"
   ]
  },
  {
   "cell_type": "code",
   "execution_count": 34,
   "metadata": {},
   "outputs": [
    {
     "name": "stdout",
     "output_type": "stream",
     "text": [
      "The string entered is( as3# )\n",
      "small alphabet\n",
      "no Capital alphabets\n",
      "Integer Value\n",
      "Special character\n"
     ]
    }
   ],
   "source": [
    "print(\"The string entered is(\",x,\")\")\n",
    "i=re.search(\"[a-z]\",x)\n",
    "if i:\n",
    "    print(\"small alphabet\")\n",
    "else:\n",
    "    print(\"no small alphabets\")\n",
    "i=re.search(\"[A-Z]\",x)\n",
    "if i:\n",
    "    print(\"Capital alphabet\")\n",
    "else:\n",
    "    print(\"no Capital alphabets\")\n",
    "i=re.search(\"[0-9]\",x)\n",
    "if i:\n",
    "    print(\"Integer Value\")\n",
    "else:\n",
    "    print(\"no Integer Value\")\n",
    "i=re.search(\"[+,.-_@#$%^&*=]\",x)\n",
    "if i:\n",
    "    print(\"Special character\")\n",
    "else:\n",
    "    print(\"no Special character\")"
   ]
  },
  {
   "cell_type": "code",
   "execution_count": null,
   "metadata": {},
   "outputs": [],
   "source": []
  },
  {
   "cell_type": "code",
   "execution_count": null,
   "metadata": {},
   "outputs": [],
   "source": []
  },
  {
   "cell_type": "code",
   "execution_count": null,
   "metadata": {},
   "outputs": [],
   "source": []
  }
 ],
 "metadata": {
  "kernelspec": {
   "display_name": "Python 3",
   "language": "python",
   "name": "python3"
  },
  "language_info": {
   "codemirror_mode": {
    "name": "ipython",
    "version": 3
   },
   "file_extension": ".py",
   "mimetype": "text/x-python",
   "name": "python",
   "nbconvert_exporter": "python",
   "pygments_lexer": "ipython3",
   "version": "3.7.6"
  }
 },
 "nbformat": 4,
 "nbformat_minor": 4
}
